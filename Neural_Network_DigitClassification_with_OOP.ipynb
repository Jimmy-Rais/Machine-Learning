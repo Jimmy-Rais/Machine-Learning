{
  "nbformat": 4,
  "nbformat_minor": 0,
  "metadata": {
    "colab": {
      "provenance": [],
      "authorship_tag": "ABX9TyM+8UV9J8Z2wYxqurvXCGdm",
      "include_colab_link": true
    },
    "kernelspec": {
      "name": "python3",
      "display_name": "Python 3"
    },
    "language_info": {
      "name": "python"
    }
  },
  "cells": [
    {
      "cell_type": "markdown",
      "metadata": {
        "id": "view-in-github",
        "colab_type": "text"
      },
      "source": [
        "<a href=\"https://colab.research.google.com/github/Jimmy-Rais/Machine-Learning/blob/main/Neural_Network_DigitClassification_with_OOP.ipynb\" target=\"_parent\"><img src=\"https://colab.research.google.com/assets/colab-badge.svg\" alt=\"Open In Colab\"/></a>"
      ]
    },
    {
      "cell_type": "code",
      "execution_count": 8,
      "metadata": {
        "colab": {
          "base_uri": "https://localhost:8080/"
        },
        "id": "TqpexZi5EMYz",
        "outputId": "a27c5a3c-7d11-450f-8fa5-3cb1e287ef9d"
      },
      "outputs": [
        {
          "output_type": "stream",
          "name": "stdout",
          "text": [
            "Downloading data from https://storage.googleapis.com/tensorflow/tf-keras-datasets/mnist.npz\n",
            "11490434/11490434 [==============================] - 0s 0us/step\n"
          ]
        }
      ],
      "source": [
        "#Import section\n",
        "import numpy as np\n",
        "import tensorflow as tf\n",
        "import matplotlib.pyplot as plt\n",
        "from tensorflow import keras\n",
        "from tensorflow.keras import layers\n",
        "from tensorflow.keras.datasets import mnist\n",
        "from tensorflow.keras.models import Sequential\n",
        "import sklearn\n",
        "from sklearn.model_selection import train_test_split\n",
        "dataset=mnist.load_data()"
      ]
    },
    {
      "cell_type": "code",
      "source": [
        "'''Neural network initialization class\n",
        " 1.Initialize training,dev and test tests\n",
        " 2.Exploratory data analysis method\n",
        " 3.Initialize layers dimensions and loss+optimizer+data preprocessing\n",
        " 4.Display the model summary and return the model\n",
        " '''\n",
        "class NN_init:\n",
        " def __init__(self,dataset,hidden_layers,neurons):\n",
        "  #Train set ,Dev and Test set  creation and Network initialization\n",
        "   self.hidden_layers=hidden_layers\n",
        "   self.neurons=neurons\n",
        "   self.dataset=dataset\n",
        "   (x_train,y_train),(x_test_t,y_test_t)=dataset\n",
        "   x_dev,x_test,y_dev,y_test=train_test_split(x_test_t,y_test_t,test_size=0.5)\n",
        " def EDA(self):\n",
        "   #Training and test sets shapes\n",
        "   self.dataset=dataset\n",
        "   (x_train,y_train),(x_test_t,y_test_t)=dataset\n",
        "   print(\"The shape of the train set is X-train={} and Y-train={}______ \\n The shape of the test set is X-test={} and Y-test={}\".format(x_train.shape,y_train.shape,x_test_t.shape,y_test_t.shape)),\n",
        "   #Data visualization\n",
        "   plt.imshow(x_train[123],cmap='gray')\n",
        "   plt.show()\n",
        "   print(\"The label of the displayed image is {}\".format(y_train[123]))\n",
        " def model_init(self):\n",
        "  model=Sequential()\n",
        "  model.add(tf.keras.layers.Flatten(input_shape=(28,28))) #Input layer to avoid shape mismatch\n",
        "  for i in range(self.hidden_layers):\n",
        "    model.add(layers.Dense(self.neurons,activation='relu')) #Iterator for hidden_layers initialization\n",
        "  model.add(layers.Dense(10,activation='softmax')) #Output layer using softmax activation with 10 neurons\n",
        "  return model"
      ],
      "metadata": {
        "id": "nIIv46fHE_FC"
      },
      "execution_count": 47,
      "outputs": []
    },
    {
      "cell_type": "code",
      "source": [
        "'''\n",
        "Train Neural Network Class\n",
        "1.Train the neural network on the train set and return Jtrain(Cost function on the train set) and accuracy\n",
        "2.Train the neural network on the dev set and return Jdev(Cost function on the test set) and accuracy\n",
        "3.Bias/Variance analysis method +plots\n",
        "4.Return the fine tuned model based on the diagnosis and cures offered by the Bias/Variance analysis method\n",
        " '''\n",
        "class NN_train(NN_init):\n",
        "  def __init__(self):\n",
        "    super().__init__()"
      ],
      "metadata": {
        "colab": {
          "base_uri": "https://localhost:8080/"
        },
        "id": "YdJeze8FGzI8",
        "outputId": "d498f582-1738-4c37-e155-977034859bd9"
      },
      "execution_count": 48,
      "outputs": [
        {
          "output_type": "stream",
          "name": "stdout",
          "text": [
            "Model: \"sequential_1\"\n",
            "_________________________________________________________________\n",
            " Layer (type)                Output Shape              Param #   \n",
            "=================================================================\n",
            " flatten_1 (Flatten)         (None, 784)               0         \n",
            "                                                                 \n",
            " dense_4 (Dense)             (None, 2)                 1570      \n",
            "                                                                 \n",
            " dense_5 (Dense)             (None, 2)                 6         \n",
            "                                                                 \n",
            " dense_6 (Dense)             (None, 2)                 6         \n",
            "                                                                 \n",
            " dense_7 (Dense)             (None, 10)                30        \n",
            "                                                                 \n",
            "=================================================================\n",
            "Total params: 1612 (6.30 KB)\n",
            "Trainable params: 1612 (6.30 KB)\n",
            "Non-trainable params: 0 (0.00 Byte)\n",
            "_________________________________________________________________\n",
            "None\n"
          ]
        },
        {
          "output_type": "execute_result",
          "data": {
            "text/plain": [
              "<keras.src.engine.sequential.Sequential at 0x7f8faab44bb0>"
            ]
          },
          "metadata": {},
          "execution_count": 48
        }
      ]
    },
    {
      "cell_type": "code",
      "source": [],
      "metadata": {
        "id": "GTMlL6CdNMpQ"
      },
      "execution_count": null,
      "outputs": []
    }
  ]
}