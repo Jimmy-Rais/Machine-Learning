{
  "nbformat": 4,
  "nbformat_minor": 0,
  "metadata": {
    "colab": {
      "provenance": [],
      "authorship_tag": "ABX9TyPIWy7YPlyqca2ve6IjJ3Zb",
      "include_colab_link": true
    },
    "kernelspec": {
      "name": "python3",
      "display_name": "Python 3"
    },
    "language_info": {
      "name": "python"
    }
  },
  "cells": [
    {
      "cell_type": "markdown",
      "metadata": {
        "id": "view-in-github",
        "colab_type": "text"
      },
      "source": [
        "<a href=\"https://colab.research.google.com/github/Jimmy-Rais/Machine-Learning/blob/main/Neural_net_fashion_mnist.ipynb\" target=\"_parent\"><img src=\"https://colab.research.google.com/assets/colab-badge.svg\" alt=\"Open In Colab\"/></a>"
      ]
    },
    {
      "cell_type": "code",
      "execution_count": 78,
      "metadata": {
        "id": "03pLgtLDQrn7"
      },
      "outputs": [],
      "source": [
        "import tensorflow as tf\n",
        "from tensorflow import keras\n",
        "from keras.datasets import fashion_mnist\n",
        "import numpy as np\n",
        "import matplotlib.pyplot as plt\n",
        "from keras.models import Sequential\n",
        "from keras.layers import Dense\n",
        "from keras.optimizers import Adam\n",
        "(x_train_full,y_train_full),(x_test,y_test)=fashion_mnist.load_data() #Train test split\n",
        "#Normilize the input\n",
        "x_train_full=x_train_full/255.0\n",
        "x_test=x_test/255.0\n",
        "#Validation set\n",
        "x_dev,x_train=x_train_full[:5000],x_train_full[5000:]\n",
        "y_dev,y_train=y_train_full[:5000],y_train_full[5000:]\n"
      ]
    },
    {
      "cell_type": "code",
      "source": [
        "class NN:\n",
        "  def __init__(self,x_train,y_train,x_test,y_test,x_dev,y_dev):\n",
        "    self.x_train=x_train\n",
        "    self.y_train=y_train\n",
        "    self.x_test=x_test\n",
        "    self.y_test=y_test\n",
        "    self.x_dev=x_dev\n",
        "    self.y_dev=y_dev\n",
        "  def EDA(self):\n",
        "    #Assign labels to categories\n",
        "    class_names = [\"T-shirt/top\", \"Trouser\", \"Pullover\", \"Dress\", \"Coat\",\n",
        "      \"Sandal\", \"Shirt\", \"Sneaker\", \"Bag\", \"Ankle boot\"]\n",
        "    #Display training data with its category\n",
        "    plt.figure(figsize=(3,3))\n",
        "    plt.imshow(x_train[50],cmap='gray')\n",
        "    print(\"The image above represents a {}\".format(class_names[y_train[50]]))\n",
        "    #Return the size and data type of the training data\n",
        "    print(\"The training set is of size {}\".format(x_train.shape))\n",
        "    print(\"This means that the training set has {} images /n and each item is a {}x{} pixels image\".\n",
        "          format(x_train.shape[0],x_train.shape[1],x_train.shape[2]))\n",
        "    print(\"The dev set is of size {}/n and the test set is {}\".format(x_dev.shape,x_test.shape))\n",
        "  def NN_train(self,hidden_layers,neurons_per_layers,optimizer):\n",
        "     self.hidden_layers=hidden_layers,\n",
        "     self.neurons_per_layers=neurons_per_layers\n",
        "     self.optimizer=optimizer\n",
        "     model=keras.Sequential()\n",
        "     model.add(tf.keras.layers.Flatten(input_shape=(28,28))) #Input layer to avoid shape mismatch\n",
        "     for i in range(hidden_layers):\n",
        "        model.add(Dense(neurons_per_layers,activation='relu')) #Hidden layers\n",
        "     model.add(Dense(10,activation='softmax')) #Output layer\n",
        "     print(model.summary())\n",
        "    #Model training\n",
        "     model.compile(optimizer=optimizer,loss='sparse_categorical_crossentropy',metrics=['accuracy'])\n",
        "     history=model.fit(x_train,y_train,epochs=10,validation_data=(x_dev,y_dev))\n",
        "     return history"
      ],
      "metadata": {
        "id": "luvotUv5RKd4"
      },
      "execution_count": 79,
      "outputs": []
    },
    {
      "cell_type": "code",
      "source": [
        "#Test_block\n",
        "test=NN(x_train,y_train,x_test,y_test,x_dev,y_dev)\n",
        "test.EDA()"
      ],
      "metadata": {
        "colab": {
          "base_uri": "https://localhost:8080/",
          "height": 366
        },
        "id": "ex-eHXEVRaVN",
        "outputId": "7b5d257f-ada2-44f3-a1a6-e928a16b1952"
      },
      "execution_count": 80,
      "outputs": [
        {
          "output_type": "stream",
          "name": "stdout",
          "text": [
            "The image above represents a Pullover\n",
            "The training set is of size (55000, 28, 28)\n",
            "This means that the training set has 55000 images /n and each item is a 28x28 pixels image\n",
            "The dev set is of size (5000, 28, 28)/n and the test set is (10000, 28, 28)\n"
          ]
        },
        {
          "output_type": "display_data",
          "data": {
            "text/plain": [
              "<Figure size 300x300 with 1 Axes>"
            ],
            "image/png": "[encoded data removed]"
          },
          "metadata": {}
        }
      ]
    },
    {
      "cell_type": "code",
      "source": [
        "test.NN_train(3,100,Adam(learning_rate=0.01))"
      ],
      "metadata": {
        "colab": {
          "base_uri": "https://localhost:8080/"
        },
        "id": "EuAYa4hiUUdW",
        "outputId": "889205e7-9b0b-4844-d1f5-7d52b5835119"
      },
      "execution_count": 85,
      "outputs": [
        {
          "output_type": "stream",
          "name": "stdout",
          "text": [
            "Model: \"sequential_9\"\n",
            "_________________________________________________________________\n",
            " Layer (type)                Output Shape              Param #   \n",
            "=================================================================\n",
            " flatten_9 (Flatten)         (None, 784)               0         \n",
            "                                                                 \n",
            " dense_29 (Dense)            (None, 100)               78500     \n",
            "                                                                 \n",
            " dense_30 (Dense)            (None, 100)               10100     \n",
            "                                                                 \n",
            " dense_31 (Dense)            (None, 100)               10100     \n",
            "                                                                 \n",
            " dense_32 (Dense)            (None, 10)                1010      \n",
            "                                                                 \n",
            "=================================================================\n",
            "Total params: 99710 (389.49 KB)\n",
            "Trainable params: 99710 (389.49 KB)\n",
            "Non-trainable params: 0 (0.00 Byte)\n",
            "_________________________________________________________________\n",
            "None\n",
            "Epoch 1/10\n",
            "1719/1719 [==============================] - 9s 5ms/step - loss: 0.5809 - accuracy: 0.7902 - val_loss: 0.4674 - val_accuracy: 0.8340\n",
            "Epoch 2/10\n",
            "1719/1719 [==============================] - 7s 4ms/step - loss: 0.4801 - accuracy: 0.8317 - val_loss: 0.5055 - val_accuracy: 0.8230\n",
            "Epoch 3/10\n",
            "1719/1719 [==============================] - 8s 5ms/step - loss: 0.4544 - accuracy: 0.8402 - val_loss: 0.5177 - val_accuracy: 0.8280\n",
            "Epoch 4/10\n",
            "1719/1719 [==============================] - 7s 4ms/step - loss: 0.4360 - accuracy: 0.8479 - val_loss: 0.4390 - val_accuracy: 0.8508\n",
            "Epoch 5/10\n",
            "1719/1719 [==============================] - 8s 5ms/step - loss: 0.4309 - accuracy: 0.8491 - val_loss: 0.4138 - val_accuracy: 0.8542\n",
            "Epoch 6/10\n",
            "1719/1719 [==============================] - 9s 5ms/step - loss: 0.4123 - accuracy: 0.8533 - val_loss: 0.4358 - val_accuracy: 0.8516\n",
            "Epoch 7/10\n",
            "1719/1719 [==============================] - 7s 4ms/step - loss: 0.4238 - accuracy: 0.8526 - val_loss: 0.4074 - val_accuracy: 0.8568\n",
            "Epoch 8/10\n",
            "1719/1719 [==============================] - 7s 4ms/step - loss: 0.4067 - accuracy: 0.8585 - val_loss: 0.4241 - val_accuracy: 0.8582\n",
            "Epoch 9/10\n",
            "1719/1719 [==============================] - 7s 4ms/step - loss: 0.4015 - accuracy: 0.8575 - val_loss: 0.4295 - val_accuracy: 0.8644\n",
            "Epoch 10/10\n",
            "1719/1719 [==============================] - 8s 4ms/step - loss: 0.3935 - accuracy: 0.8628 - val_loss: 0.4243 - val_accuracy: 0.8630\n"
          ]
        },
        {
          "output_type": "execute_result",
          "data": {
            "text/plain": [
              "<keras.src.callbacks.History at 0x7f8fc88031c0>"
            ]
          },
          "metadata": {},
          "execution_count": 85
        }
      ]
    },
    {
      "cell_type": "code",
      "source": [],
      "metadata": {
        "id": "75tr9tF8VEEs"
      },
      "execution_count": null,
      "outputs": []
    }
  ]
}