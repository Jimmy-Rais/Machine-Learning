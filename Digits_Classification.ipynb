{
  "nbformat": 4,
  "nbformat_minor": 0,
  "metadata": {
    "colab": {
      "provenance": [],
      "authorship_tag": "ABX9TyPwMjfAFPe4W4RcOEfj5GEG",
      "include_colab_link": true
    },
    "kernelspec": {
      "name": "python3",
      "display_name": "Python 3"
    },
    "language_info": {
      "name": "python"
    }
  },
  "cells": [
    {
      "cell_type": "markdown",
      "metadata": {
        "id": "view-in-github",
        "colab_type": "text"
      },
      "source": [
        "<a href=\"https://colab.research.google.com/github/Jimmy-Rais/Machine-Learning/blob/main/Digits_Classification.ipynb\" target=\"_parent\"><img src=\"https://colab.research.google.com/assets/colab-badge.svg\" alt=\"Open In Colab\"/></a>"
      ]
    },
    {
      "cell_type": "code",
      "execution_count": null,
      "metadata": {
        "id": "riEN1TVDtRXN"
      },
      "outputs": [],
      "source": [
        "\"\"\"\n",
        "Digits classification using fully connected/Dense Layers\n",
        "We are going to Diagnosis the model and understand if it has high bias and/or high variance and suggest cures\n",
        "author:jimmyrais63@gmail.com\n",
        "\"\"\"\n",
        "#Import necessary libraries\n",
        "import tensorflow as tf\n",
        "from tensorflow.keras.models import Sequential\n",
        "from tensorflow.keras.layers import Dense\n",
        "from tensorflow.keras.optimizers import Adam\n",
        "from tensorflow.keras.datasets import mnist\n",
        "import matplotlib.pyplot as plt"
      ]
    },
    {
      "cell_type": "code",
      "source": [
        "#Load the data and split it into training and test set\n",
        "(x_train,y_train),(x_test,y_test)=mnist.load_data()"
      ],
      "metadata": {
        "id": "kew3lJHAt6RP",
        "colab": {
          "base_uri": "https://localhost:8080/"
        },
        "outputId": "77059696-ba17-4ed5-d9cb-d7e6ec497598"
      },
      "execution_count": null,
      "outputs": [
        {
          "output_type": "stream",
          "name": "stdout",
          "text": [
            "Downloading data from https://storage.googleapis.com/tensorflow/tf-keras-datasets/mnist.npz\n",
            "11490434/11490434 [==============================] - 0s 0us/step\n"
          ]
        }
      ]
    },
    {
      "cell_type": "code",
      "source": [
        "#Visualize training data and verify the shapes\n",
        "plt.imshow(x_train[100],cmap='gray')\n",
        "print(f\"This is {y_train[100]}\")\n",
        "print(f\"X_train shape={x_train.shape}\")\n",
        "print(f\"Y_train shape={y_train.shape}\")\n"
      ],
      "metadata": {
        "colab": {
          "base_uri": "https://localhost:8080/",
          "height": 485
        },
        "id": "W800CoCquYdt",
        "outputId": "c8a25898-439c-472a-e44a-4282094c3cb0"
      },
      "execution_count": null,
      "outputs": [
        {
          "output_type": "stream",
          "name": "stdout",
          "text": [
            "This is 5\n",
            "X_train shape=(60000, 28, 28)\n",
            "Y_train shape=(60000,)\n"
          ]
        },
        {
          "output_type": "display_data",
          "data": {
            "text/plain": [
              "<Figure size 640x480 with 1 Axes>"
            ],
            "image/png": "[encoded data removed]"
          },
          "metadata": {}
        }
      ]
    },
    {
      "cell_type": "code",
      "source": [
        "#Model creation\n",
        "#The input layer make sure that there won't be shape mismatch\n",
        "model=Sequential([\n",
        "    tf.keras.layers.Flatten(input_shape=(28,28)),\n",
        "    #Dense(units=25,activation='relu'),\n",
        "    #Dense(units=16,activation='relu'),\n",
        "    #Dense(units=10,activation='linear'),\n",
        "    #This gave 93% accuracy on the training set\n",
        "    Dense(units=50,activation='relu'),\n",
        "    Dense(units=24,activation='relu'),\n",
        "    Dense(units=10,activation='linear'),\n",
        "])\n",
        "model.compile(loss=tf.keras.losses.SparseCategoricalCrossentropy(from_logits=True),optimizer=Adam(learning_rate=0.001),metrics=['accuracy'])\n",
        "model.fit(x_train,y_train,epochs=10)"
      ],
      "metadata": {
        "colab": {
          "base_uri": "https://localhost:8080/"
        },
        "id": "P1UZP5odum8F",
        "outputId": "2b848e9b-461a-41e2-fbf0-344cc8568086"
      },
      "execution_count": null,
      "outputs": [
        {
          "output_type": "stream",
          "name": "stdout",
          "text": [
            "Epoch 1/10\n",
            "1875/1875 [==============================] - 8s 3ms/step - loss: 2.0385 - accuracy: 0.4554\n",
            "Epoch 2/10\n",
            "1875/1875 [==============================] - 4s 2ms/step - loss: 0.9619 - accuracy: 0.6725\n",
            "Epoch 3/10\n",
            "1875/1875 [==============================] - 5s 3ms/step - loss: 0.6009 - accuracy: 0.8005\n",
            "Epoch 4/10\n",
            "1875/1875 [==============================] - 4s 2ms/step - loss: 0.4005 - accuracy: 0.8846\n",
            "Epoch 5/10\n",
            "1875/1875 [==============================] - 4s 2ms/step - loss: 0.2620 - accuracy: 0.9304\n",
            "Epoch 6/10\n",
            "1875/1875 [==============================] - 5s 3ms/step - loss: 0.2029 - accuracy: 0.9464\n",
            "Epoch 7/10\n",
            "1875/1875 [==============================] - 4s 2ms/step - loss: 0.1674 - accuracy: 0.9551\n",
            "Epoch 8/10\n",
            "1875/1875 [==============================] - 4s 2ms/step - loss: 0.1474 - accuracy: 0.9589\n",
            "Epoch 9/10\n",
            "1875/1875 [==============================] - 5s 3ms/step - loss: 0.1368 - accuracy: 0.9632\n",
            "Epoch 10/10\n",
            "1875/1875 [==============================] - 4s 2ms/step - loss: 0.1217 - accuracy: 0.9664\n"
          ]
        },
        {
          "output_type": "execute_result",
          "data": {
            "text/plain": [
              "<keras.src.callbacks.History at 0x7f456100f970>"
            ]
          },
          "metadata": {},
          "execution_count": 4
        }
      ]
    },
    {
      "cell_type": "code",
      "source": [
        "#Understanding Bias and/or Variance of the model\n",
        "#1.Let's create a validation set\n",
        "import sklearn\n",
        "from sklearn.model_selection import train_test_split\n",
        "x_cv,x_t,y_cv,y_t=train_test_split(x_test,y_test,test_size=0.2)\n",
        "print(f\"Validation_set size={x_cv.shape}\")\n",
        "print(f\"Test_set siwe={x_t.shape}\")\n",
        "#Evaluate Jtrain(Loss function on the training set)\n",
        "J_train=model.evaluate(x_train,y_train)\n",
        "#Evaluate Jcv(Loss Function on the dev set(Validation set))\n",
        "J_cv=model.evaluate(x_cv,y_cv)"
      ],
      "metadata": {
        "colab": {
          "base_uri": "https://localhost:8080/"
        },
        "id": "sohnp1XWwxwg",
        "outputId": "d4a7e8b3-2b5d-499e-ca55-6b4663e77532"
      },
      "execution_count": null,
      "outputs": [
        {
          "output_type": "stream",
          "name": "stdout",
          "text": [
            "Validation_set size=(8000, 28, 28)\n",
            "Test_set siwe=(2000, 28, 28)\n",
            "1875/1875 [==============================] - 3s 2ms/step - loss: 0.1013 - accuracy: 0.9718\n",
            "250/250 [==============================] - 0s 2ms/step - loss: 0.1761 - accuracy: 0.9594\n"
          ]
        }
      ]
    },
    {
      "cell_type": "code",
      "source": [
        "''' The loss obtained on the validation set is slightly less than the one obtained on the training set,this implies that the model does not have\n",
        "high variance,however the model seems to have high bias(obtained 92% accuracy withe the initial network)if I consider as performance baseline 96%\n",
        "Cure for High Bias networks: 1.Increase the complexity of the network(more Number of layers or units per layer(initially we had\n",
        "25 units in the first layer,16 in the second and 10 in the o/p layer,try to increase\n",
        " The second solution is to decrease the regularization factor and observe the result'''\n",
        "#Predictions\n",
        "import numpy as np\n",
        "#Reshape the input image so that it will be compatible with the input layer of the neural network\n",
        "predictions=model.predict(x_t[0].reshape(1,28,28))\n",
        "#Covert numerical predictions into probabilities using the softmax activation,this approach helps to reduce numerical round off errors\n",
        "pred=tf.nn.softmax(predictions)\n",
        "print(\"We are trying to classify the below digit using a neural network model:\")\n",
        "plt.imshow(x_t[0],cmap='gray')\n",
        "print(f\"The result given by the neural network is {np.argmax(pred)}\")"
      ],
      "metadata": {
        "colab": {
          "base_uri": "https://localhost:8080/",
          "height": 485
        },
        "id": "XpDpzpp5yRqj",
        "outputId": "3b9140df-4ba3-4c6e-933a-c3d458fc583e"
      },
      "execution_count": null,
      "outputs": [
        {
          "output_type": "stream",
          "name": "stdout",
          "text": [
            "1/1 [==============================] - 0s 88ms/step\n",
            "We are trying to classify the below digit using a neural network model:\n",
            "The result given by the neural network is 3\n"
          ]
        },
        {
          "output_type": "display_data",
          "data": {
            "text/plain": [
              "<Figure size 640x480 with 1 Axes>"
            ],
            "image/png": "[encoded data removed]"
          },
          "metadata": {}
        }
      ]
    },
    {
      "cell_type": "code",
      "source": [
        "# Saving the model with Tflite\n",
        "import pathlib\n",
        "export_dir = 'saved_model/1'\n",
        "tf.saved_model.save(model, export_dir)\n",
        "converter = tf.lite.TFLiteConverter.from_saved_model(export_dir)\n",
        "tflite_model = converter.convert()\n",
        "tflite_model_file= pathlib.Path('model.tflite')\n",
        "tflite_model_file.write_bytes(tflite_model)"
      ],
      "metadata": {
        "id": "aG8QYrO13Nlo",
        "colab": {
          "base_uri": "https://localhost:8080/"
        },
        "outputId": "73787d54-35ea-459a-969a-cb0a2bd8784b"
      },
      "execution_count": null,
      "outputs": [
        {
          "output_type": "execute_result",
          "data": {
            "text/plain": [
              "165088"
            ]
          },
          "metadata": {},
          "execution_count": 12
        }
      ]
    },
    {
      "cell_type": "code",
      "source": [
        "#Download the tflite\n",
        "try:\n",
        "  from google.colab import files\n",
        "  files.download(tflite_model_file)\n",
        "except:\n",
        "  pass"
      ],
      "metadata": {
        "colab": {
          "base_uri": "https://localhost:8080/",
          "height": 17
        },
        "id": "UPHx8XUtwxDQ",
        "outputId": "45c9760a-e83b-408f-cde3-6f964678a068"
      },
      "execution_count": null,
      "outputs": [
        {
          "output_type": "display_data",
          "data": {
            "text/plain": [
              "<IPython.core.display.Javascript object>"
            ],
            "application/javascript": [
              "\n",
              "    async function download(id, filename, size) {\n",
              "      if (!google.colab.kernel.accessAllowed) {\n",
              "        return;\n",
              "      }\n",
              "      const div = document.createElement('div');\n",
              "      const label = document.createElement('label');\n",
              "      label.textContent = `Downloading \"${filename}\": `;\n",
              "      div.appendChild(label);\n",
              "      const progress = document.createElement('progress');\n",
              "      progress.max = size;\n",
              "      div.appendChild(progress);\n",
              "      document.body.appendChild(div);\n",
              "\n",
              "      const buffers = [];\n",
              "      let downloaded = 0;\n",
              "\n",
              "      const channel = await google.colab.kernel.comms.open(id);\n",
              "      // Send a message to notify the kernel that we're ready.\n",
              "      channel.send({})\n",
              "\n",
              "      for await (const message of channel.messages) {\n",
              "        // Send a message to notify the kernel that we're ready.\n",
              "        channel.send({})\n",
              "        if (message.buffers) {\n",
              "          for (const buffer of message.buffers) {\n",
              "            buffers.push(buffer);\n",
              "            downloaded += buffer.byteLength;\n",
              "            progress.value = downloaded;\n",
              "          }\n",
              "        }\n",
              "      }\n",
              "      const blob = new Blob(buffers, {type: 'application/binary'});\n",
              "      const a = document.createElement('a');\n",
              "      a.href = window.URL.createObjectURL(blob);\n",
              "      a.download = filename;\n",
              "      div.appendChild(a);\n",
              "      a.click();\n",
              "      div.remove();\n",
              "    }\n",
              "  "
            ]
          },
          "metadata": {}
        },
        {
          "output_type": "display_data",
          "data": {
            "text/plain": [
              "<IPython.core.display.Javascript object>"
            ],
            "application/javascript": [
              "download(\"download_7f906f74-f882-4e6f-8fac-0733f988142e\", \"model.tflite\", 165088)"
            ]
          },
          "metadata": {}
        }
      ]
    },
    {
      "cell_type": "code",
      "source": [],
      "metadata": {
        "id": "Mhrs3AbRzELz"
      },
      "execution_count": null,
      "outputs": []
    }
  ]
}