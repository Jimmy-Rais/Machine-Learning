{
  "nbformat": 4,
  "nbformat_minor": 0,
  "metadata": {
    "colab": {
      "provenance": [],
      "authorship_tag": "ABX9TyN+Ht22uW2e3ihuUXfMd8cK",
      "include_colab_link": true
    },
    "kernelspec": {
      "name": "python3",
      "display_name": "Python 3"
    },
    "language_info": {
      "name": "python"
    }
  },
  "cells": [
    {
      "cell_type": "markdown",
      "metadata": {
        "id": "view-in-github",
        "colab_type": "text"
      },
      "source": [
        "<a href=\"https://colab.research.google.com/github/Jimmy-Rais/Machine-Learning/blob/main/Digits_Classification.ipynb\" target=\"_parent\"><img src=\"https://colab.research.google.com/assets/colab-badge.svg\" alt=\"Open In Colab\"/></a>"
      ]
    },
    {
      "cell_type": "code",
      "execution_count": 57,
      "metadata": {
        "id": "riEN1TVDtRXN"
      },
      "outputs": [],
      "source": [
        "\"\"\"\n",
        "Digits classification using fully connected/Dense LayeSrs\n",
        "We are going to Diagnosise the model and understand if it has high bias and/or high variance and suggest cures\n",
        "author:jimmyrais63@gmail.com\n",
        "\"\"\"\n",
        "#Import necessary libraries\n",
        "import tensorflow as tf\n",
        "from tensorflow.keras.models import Sequential\n",
        "from tensorflow.keras.layers import Dense\n",
        "from tensorflow.keras.optimizers import Adam\n",
        "from tensorflow.keras.datasets import mnist\n",
        "import matplotlib.pyplot as plt"
      ]
    },
    {
      "cell_type": "code",
      "source": [
        "#Load the data and split it into training and test set\n",
        "(x_train,y_train),(x_test,y_test)=mnist.load_data()"
      ],
      "metadata": {
        "id": "kew3lJHAt6RP"
      },
      "execution_count": 58,
      "outputs": []
    },
    {
      "cell_type": "code",
      "source": [
        "#Visualize training data and verify the shapes\n",
        "plt.imshow(x_train[100],cmap='gray')\n",
        "print(f\"This is {y_train[100]}\")\n",
        "print(f\"X_train shape={x_train.shape}\")\n",
        "print(f\"Y_train shape={y_train.shape}\")\n"
      ],
      "metadata": {
        "colab": {
          "base_uri": "https://localhost:8080/",
          "height": 485
        },
        "id": "W800CoCquYdt",
        "outputId": "dc000457-cf30-4eca-b3a9-4aac788f523b"
      },
      "execution_count": 59,
      "outputs": [
        {
          "output_type": "stream",
          "name": "stdout",
          "text": [
            "This is 5\n",
            "X_train shape=(60000, 28, 28)\n",
            "Y_train shape=(60000,)\n"
          ]
        },
        {
          "output_type": "display_data",
          "data": {
            "text/plain": [
              "<Figure size 640x480 with 1 Axes>"
            ],
            "image/png": "[encoded data removed]"
          },
          "metadata": {}
        }
      ]
    },
    {
      "cell_type": "code",
      "source": [
        "#Model creation\n",
        "#The input layer make sure that there won't be shape mismatch\n",
        "model=Sequential([\n",
        "    tf.keras.layers.Flatten(input_shape=(28,28)),\n",
        "    #Dense(units=25,activation='relu'),\n",
        "    #Dense(units=16,activation='relu'),\n",
        "    #Dense(units=10,activation='linear'),\n",
        "    #This gave 93% accuracy on the training set\n",
        "    Dense(units=50,activation='relu'),\n",
        "    Dense(units=24,activation='relu'),\n",
        "    Dense(units=10,activation='linear'),\n",
        "])\n",
        "model.compile(loss=tf.keras.losses.SparseCategoricalCrossentropy(from_logits=True),optimizer=Adam(learning_rate=0.001),metrics=['accuracy'])\n",
        "model.fit(x_train,y_train,epochs=10)"
      ],
      "metadata": {
        "colab": {
          "base_uri": "https://localhost:8080/"
        },
        "id": "P1UZP5odum8F",
        "outputId": "888fdf47-a217-4092-dbcb-310a9b4596bb"
      },
      "execution_count": 64,
      "outputs": [
        {
          "output_type": "stream",
          "name": "stdout",
          "text": [
            "Epoch 1/10\n",
            "1875/1875 [==============================] - 5s 2ms/step - loss: 1.5632 - accuracy: 0.5586\n",
            "Epoch 2/10\n",
            "1875/1875 [==============================] - 4s 2ms/step - loss: 0.7036 - accuracy: 0.7823\n",
            "Epoch 3/10\n",
            "1875/1875 [==============================] - 5s 3ms/step - loss: 0.4074 - accuracy: 0.8945\n",
            "Epoch 4/10\n",
            "1875/1875 [==============================] - 4s 2ms/step - loss: 0.2855 - accuracy: 0.9266\n",
            "Epoch 5/10\n",
            "1875/1875 [==============================] - 4s 2ms/step - loss: 0.2239 - accuracy: 0.9409\n",
            "Epoch 6/10\n",
            "1875/1875 [==============================] - 4s 2ms/step - loss: 0.1961 - accuracy: 0.9485\n",
            "Epoch 7/10\n",
            "1875/1875 [==============================] - 4s 2ms/step - loss: 0.1645 - accuracy: 0.9562\n",
            "Epoch 8/10\n",
            "1875/1875 [==============================] - 4s 2ms/step - loss: 0.1519 - accuracy: 0.9585\n",
            "Epoch 9/10\n",
            "1875/1875 [==============================] - 4s 2ms/step - loss: 0.1352 - accuracy: 0.9625\n",
            "Epoch 10/10\n",
            "1875/1875 [==============================] - 5s 3ms/step - loss: 0.1219 - accuracy: 0.9663\n"
          ]
        },
        {
          "output_type": "execute_result",
          "data": {
            "text/plain": [
              "<keras.src.callbacks.History at 0x7bbdc29adae0>"
            ]
          },
          "metadata": {},
          "execution_count": 64
        }
      ]
    },
    {
      "cell_type": "code",
      "source": [
        "#Understanding Bias and/or Variance of the model\n",
        "#1.Let's create a validation set\n",
        "import sklearn\n",
        "from sklearn.model_selection import train_test_split\n",
        "x_cv,x_t,y_cv,y_t=train_test_split(x_test,y_test,test_size=0.2)\n",
        "print(f\"Validation_set size={x_cv.shape}\")\n",
        "print(f\"Test_set siwe={x_t.shape}\")\n",
        "#Evaluate Jtrain(Loss function on the training set)\n",
        "J_train=model.evaluate(x_train,y_train)\n",
        "#Evaluate Jcv(Loss Function on the dev set(Validation set))\n",
        "J_cv=model.evaluate(x_cv,y_cv)"
      ],
      "metadata": {
        "colab": {
          "base_uri": "https://localhost:8080/"
        },
        "id": "sohnp1XWwxwg",
        "outputId": "2130b54d-711f-42cb-dd88-8ef8d5561455"
      },
      "execution_count": 66,
      "outputs": [
        {
          "output_type": "stream",
          "name": "stdout",
          "text": [
            "Validation_set size=(8000, 28, 28)\n",
            "Test_set siwe=(2000, 28, 28)\n",
            "1875/1875 [==============================] - 3s 2ms/step - loss: 0.0967 - accuracy: 0.9720\n",
            "250/250 [==============================] - 0s 1ms/step - loss: 0.1723 - accuracy: 0.9553\n"
          ]
        }
      ]
    },
    {
      "cell_type": "code",
      "source": [
        "# The loss obtained on the validation set is slightly less than the one obtained on the training set,this implies that the model does not have\n",
        "#high variance,however the model seems to have high bias(obtained 92% accuracy withe the initial network)if I consider as performance baseline 96%\n",
        "#Cure for High Bias networks: 1.Increase the complexity of the network(more Number of layers or units per layer(initially we had\n",
        "#25 units in the first layer,16 in the second and 10 in the o/p layer,try to increase\n",
        "# The second solution is to decrease the regularization factor and observe the result\n",
        "#Predictions\n",
        "import numpy as np\n",
        "#Reshape the input image so that it will be compatible with the input layer of the neural network\n",
        "predictions=model.predict(x_t[0].reshape(1,28,28))\n",
        "#Covert numerical predictions into probabilities using the softmax activation,this approach helps to reduce numerical round off errors\n",
        "pred=tf.nn.softmax(predictions)\n",
        "print(\"We are trying to classify the below digit using a neural network model:\")\n",
        "plt.imshow(x_t[0],cmap='gray')\n",
        "print(f\"The result given by the neural network is {np.argmax(pred)}\")"
      ],
      "metadata": {
        "colab": {
          "base_uri": "https://localhost:8080/",
          "height": 485
        },
        "id": "XpDpzpp5yRqj",
        "outputId": "ba2c0344-2486-46eb-93bf-49b060add4cb"
      },
      "execution_count": 67,
      "outputs": [
        {
          "output_type": "stream",
          "name": "stdout",
          "text": [
            "1/1 [==============================] - 0s 63ms/step\n",
            "We are trying to classify the below digit using a neural network model:\n",
            "The result given by the neural network is 0\n"
          ]
        },
        {
          "output_type": "display_data",
          "data": {
            "text/plain": [
              "<Figure size 640x480 with 1 Axes>"
            ],
            "image/png": "[encoded data removed]"
          },
          "metadata": {}
        }
      ]
    },
    {
      "cell_type": "code",
      "source": [],
      "metadata": {
        "id": "aG8QYrO13Nlo"
      },
      "execution_count": null,
      "outputs": []
    }
  ]
}